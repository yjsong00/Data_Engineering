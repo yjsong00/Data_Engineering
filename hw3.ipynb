{
 "cells": [
  {
   "cell_type": "code",
   "execution_count": 2,
   "id": "f5645f1f-fde1-429a-a42f-8a4087df546b",
   "metadata": {},
   "outputs": [],
   "source": [
    "hairstyles = [\"bouffant\", \"pixie\", \"dreadlocks\", \"crew\", \"bowl\", \"bob\", \"mohawk\", \"flattop\"]"
   ]
  },
  {
   "cell_type": "code",
   "execution_count": 3,
   "id": "53dd8d75-4a93-46b4-a475-97f76a254f5d",
   "metadata": {},
   "outputs": [],
   "source": [
    "prices= [30, 25, 40, 20, 20, 35, 50, 35]"
   ]
  },
  {
   "cell_type": "code",
   "execution_count": 4,
   "id": "b9a2e0f8-ab10-4f2a-b322-0731a24481c6",
   "metadata": {},
   "outputs": [],
   "source": [
    "last_week = [2, 3, 5, 8, 4, 4, 6, 2]"
   ]
  },
  {
   "cell_type": "code",
   "execution_count": 5,
   "id": "ab6fe701-a75d-4684-88a7-cc8f0f923732",
   "metadata": {},
   "outputs": [],
   "source": [
    "total_price = 0"
   ]
  },
  {
   "cell_type": "code",
   "execution_count": 7,
   "id": "b87556dc-21c5-4792-8fd3-a20b64856742",
   "metadata": {},
   "outputs": [
    {
     "name": "stdout",
     "output_type": "stream",
     "text": [
      "255\n"
     ]
    }
   ],
   "source": [
    "total_price = sum(prices)\n",
    "print(total_price)"
   ]
  },
  {
   "cell_type": "code",
   "execution_count": 8,
   "id": "e63d6daf-a9c2-4645-9e86-eb32a5a523f4",
   "metadata": {},
   "outputs": [],
   "source": [
    "average_price = total_price / len(prices)"
   ]
  },
  {
   "cell_type": "code",
   "execution_count": 9,
   "id": "953e87e2-29ab-4de4-b28d-e215b3989a40",
   "metadata": {},
   "outputs": [
    {
     "name": "stdout",
     "output_type": "stream",
     "text": [
      "Average price is  31.875\n"
     ]
    }
   ],
   "source": [
    "print(\"Average price is \", average_price)"
   ]
  },
  {
   "cell_type": "code",
   "execution_count": 12,
   "id": "ad84575c-6b2d-4537-adb3-ff117345c38b",
   "metadata": {},
   "outputs": [],
   "source": [
    "new_prices = []"
   ]
  },
  {
   "cell_type": "code",
   "execution_count": 13,
   "id": "648cb7bf-2b20-4700-ba23-26144b270b4c",
   "metadata": {},
   "outputs": [
    {
     "name": "stdout",
     "output_type": "stream",
     "text": [
      "[25, 20, 35, 15, 15, 30, 45, 30]\n"
     ]
    }
   ],
   "source": [
    "for i in range(len(prices)):\n",
    "    new_prices.append(prices[i] - 5)\n",
    "    \n",
    "print(new_prices)"
   ]
  },
  {
   "cell_type": "code",
   "execution_count": 14,
   "id": "bd81b8aa-dd6d-425b-82e9-70b975a51717",
   "metadata": {},
   "outputs": [],
   "source": [
    "total_revenue = 0"
   ]
  },
  {
   "cell_type": "code",
   "execution_count": 15,
   "id": "ca4ddf2d-1a37-4e29-9554-85c5e0eebf88",
   "metadata": {},
   "outputs": [
    {
     "name": "stdout",
     "output_type": "stream",
     "text": [
      "1085\n"
     ]
    }
   ],
   "source": [
    "for i in range(len(hairstyles)):\n",
    "    total_revenue += last_week[i] * prices[i]\n",
    "print(total_revenue)"
   ]
  },
  {
   "cell_type": "code",
   "execution_count": 16,
   "id": "028df6be-bf44-482b-8f4b-c8061fc81389",
   "metadata": {},
   "outputs": [
    {
     "name": "stdout",
     "output_type": "stream",
     "text": [
      "Average daily revenue is  155.0\n"
     ]
    }
   ],
   "source": [
    "print(\"Average daily revenue is \", total_revenue / 7)"
   ]
  },
  {
   "cell_type": "code",
   "execution_count": 19,
   "id": "80c200d7-bd19-4e85-96dd-a75910f829a8",
   "metadata": {},
   "outputs": [],
   "source": [
    "cuts_under_30 = [hairstyles[i] for i in range(len(new_prices)) if new_prices[i] < 30]"
   ]
  },
  {
   "cell_type": "code",
   "execution_count": 18,
   "id": "4f703a05-da97-4874-b166-4f1fa872fca4",
   "metadata": {},
   "outputs": [
    {
     "name": "stdout",
     "output_type": "stream",
     "text": [
      "['bouffant', 'pixie', 'crew', 'bowl']\n"
     ]
    }
   ],
   "source": [
    "print(cuts_under_30)"
   ]
  },
  {
   "cell_type": "code",
   "execution_count": null,
   "id": "63ec0468-8c0b-479e-85a1-d5e672cd14b3",
   "metadata": {},
   "outputs": [],
   "source": []
  }
 ],
 "metadata": {
  "kernelspec": {
   "display_name": "Python 3 (ipykernel)",
   "language": "python",
   "name": "python3"
  },
  "language_info": {
   "codemirror_mode": {
    "name": "ipython",
    "version": 3
   },
   "file_extension": ".py",
   "mimetype": "text/x-python",
   "name": "python",
   "nbconvert_exporter": "python",
   "pygments_lexer": "ipython3",
   "version": "3.9.12"
  }
 },
 "nbformat": 4,
 "nbformat_minor": 5
}
