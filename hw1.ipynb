{
 "cells": [
  {
   "cell_type": "code",
   "execution_count": 1,
   "id": "4c9c38ab-87f9-40d2-851c-584fb158c26a",
   "metadata": {},
   "outputs": [],
   "source": [
    "lovely_loveseat_description = \"Lovely Loveseat. Tufted polyester blend on wood. 32 inches high x 40 inches wide x 30 inches deep. Red or white.\""
   ]
  },
  {
   "cell_type": "code",
   "execution_count": 2,
   "id": "8e9e1dc6-0309-46ed-b033-a791844388ff",
   "metadata": {},
   "outputs": [],
   "source": [
    "lovely_loveseat_price = 254.00"
   ]
  },
  {
   "cell_type": "code",
   "execution_count": 3,
   "id": "64d36c06-01d8-428c-b802-66dea16f2d9d",
   "metadata": {},
   "outputs": [],
   "source": [
    "stylish_settee_description = \"Stylish Settee. Faux leather on birch. 29.50 inches high x 54.75 inches wide x 28 inches deep. Black.\""
   ]
  },
  {
   "cell_type": "code",
   "execution_count": 4,
   "id": "c88e9447-170e-4291-830c-6370307925da",
   "metadata": {},
   "outputs": [],
   "source": [
    "stylish_settee_price = 180.50"
   ]
  },
  {
   "cell_type": "code",
   "execution_count": 5,
   "id": "d731cd8a-dd85-4f97-9e1e-0dc228d77f9b",
   "metadata": {},
   "outputs": [],
   "source": [
    "luxurious_lamp_description = \"Luxurious Lamp. Glass and iron. 36 inches tall. Brown with cream shade.\""
   ]
  },
  {
   "cell_type": "code",
   "execution_count": 6,
   "id": "ddc26b7d-5575-407f-9556-f470c39fd073",
   "metadata": {},
   "outputs": [],
   "source": [
    "luxurious_lamp_price = 52.15"
   ]
  },
  {
   "cell_type": "code",
   "execution_count": 7,
   "id": "8535502f-250d-4dc4-b9ac-c76737faebdd",
   "metadata": {},
   "outputs": [],
   "source": [
    "sales_tax = 0.088"
   ]
  },
  {
   "cell_type": "code",
   "execution_count": 8,
   "id": "604dce27-5e82-46a8-9c06-7096ee3c0d46",
   "metadata": {},
   "outputs": [],
   "source": [
    "customer_one_total = 0"
   ]
  },
  {
   "cell_type": "code",
   "execution_count": 9,
   "id": "6f6d14cf-5368-46d5-a932-8c1db9f7c24f",
   "metadata": {},
   "outputs": [],
   "source": [
    "customer_one_itemization  = \"\""
   ]
  },
  {
   "cell_type": "code",
   "execution_count": 10,
   "id": "4c3e2c4e-94ae-4752-9a33-3d02d36fd213",
   "metadata": {},
   "outputs": [],
   "source": [
    "customer_one_total = 254.00"
   ]
  },
  {
   "cell_type": "code",
   "execution_count": 11,
   "id": "50db9ff2-982f-4e4d-a09b-85bd7f81d9cd",
   "metadata": {},
   "outputs": [],
   "source": [
    "customer_one_itemization = [lovely_loveseat_description]"
   ]
  },
  {
   "cell_type": "code",
   "execution_count": 12,
   "id": "0e05735b-75c1-4c37-8e08-ba65921dffa6",
   "metadata": {},
   "outputs": [],
   "source": [
    "customer_one_total = 254.00 + 52.15"
   ]
  },
  {
   "cell_type": "code",
   "execution_count": 13,
   "id": "cdc5e82a-0c6d-49ac-9df6-4a814fb43776",
   "metadata": {},
   "outputs": [],
   "source": [
    "customer_one_itemization = [lovely_loveseat_description,luxurious_lamp_description]"
   ]
  },
  {
   "cell_type": "code",
   "execution_count": 14,
   "id": "bec69f2f-256d-4f34-ab70-3fa4efd5d56b",
   "metadata": {},
   "outputs": [],
   "source": [
    "customer_one_tax = customer_one_total * sales_tax"
   ]
  },
  {
   "cell_type": "code",
   "execution_count": 15,
   "id": "ec342cf5-a56f-4511-b411-e7039a376e68",
   "metadata": {},
   "outputs": [],
   "source": [
    "customer_one_total = customer_one_total + customer_one_tax"
   ]
  },
  {
   "cell_type": "code",
   "execution_count": 16,
   "id": "be4fdd83-5be3-4ced-ab4d-889eb9d7d70e",
   "metadata": {},
   "outputs": [
    {
     "name": "stdout",
     "output_type": "stream",
     "text": [
      "Customer One Items:\n",
      "['Lovely Loveseat. Tufted polyester blend on wood. 32 inches high x 40 inches wide x 30 inches deep. Red or white.', 'Luxurious Lamp. Glass and iron. 36 inches tall. Brown with cream shade.']\n",
      "Customer One Total:\n",
      "333.09119999999996\n"
     ]
    }
   ],
   "source": [
    "print(\"Customer One Items:\")\n",
    "print(customer_one_itemization)\n",
    "print(\"Customer One Total:\")\n",
    "print(customer_one_total)"
   ]
  },
  {
   "cell_type": "code",
   "execution_count": null,
   "id": "69056432-b1ce-4ae5-9005-d88d4d94cdad",
   "metadata": {},
   "outputs": [],
   "source": []
  }
 ],
 "metadata": {
  "kernelspec": {
   "display_name": "Python 3 (ipykernel)",
   "language": "python",
   "name": "python3"
  },
  "language_info": {
   "codemirror_mode": {
    "name": "ipython",
    "version": 3
   },
   "file_extension": ".py",
   "mimetype": "text/x-python",
   "name": "python",
   "nbconvert_exporter": "python",
   "pygments_lexer": "ipython3",
   "version": "3.9.12"
  },
  "toc-autonumbering": true,
  "toc-showmarkdowntxt": true
 },
 "nbformat": 4,
 "nbformat_minor": 5
}
